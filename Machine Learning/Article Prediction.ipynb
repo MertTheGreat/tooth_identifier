{
 "cells": [
  {
   "cell_type": "code",
   "execution_count": 33,
   "metadata": {},
   "outputs": [],
   "source": [
    "import spacy\n",
    "import pandas as pd\n",
    "import numpy as np\n",
    "import joblib\n",
    "import lorem\n",
    "import re\n",
    "import os\n",
    "from math import sqrt\n",
    "%run tooth_tenser.py\n",
    "from tika import parser\n",
    "import PyPDF2\n",
    "from tqdm import tqdm\n",
    "import imblearn"
   ]
  },
  {
   "cell_type": "code",
   "execution_count": 34,
   "metadata": {},
   "outputs": [],
   "source": [
    "%run TextComplexityReader.py"
   ]
  },
  {
   "cell_type": "code",
   "execution_count": 35,
   "metadata": {},
   "outputs": [],
   "source": [
    "model = joblib.load('/Users/mertmacbook/Google Drive/Tooth Identifier/article_smote_rf_model')"
   ]
  },
  {
   "cell_type": "code",
   "execution_count": 24,
   "metadata": {},
   "outputs": [
    {
     "data": {
      "application/vnd.jupyter.widget-view+json": {
       "model_id": "4b779197075f492e9c271b3ede47668e",
       "version_major": 2,
       "version_minor": 0
      },
      "text/plain": [
       "HBox(children=(IntProgress(value=0, max=969), HTML(value='')))"
      ]
     },
     "metadata": {},
     "output_type": "display_data"
    },
    {
     "name": "stdout",
     "output_type": "stream",
     "text": [
      "\n"
     ]
    }
   ],
   "source": [
    "article = 'Economist 6th 20.txt'\n",
    "folder = '/Users/mertmacbook/Google Drive/Tooth Identifier/Books/Economist/'\n",
    "df_predict = get_article_df('Economist 6th 20',folder + article)"
   ]
  },
  {
   "cell_type": "code",
   "execution_count": 36,
   "metadata": {},
   "outputs": [
    {
     "data": {
      "text/html": [
       "<div>\n",
       "<style scoped>\n",
       "    .dataframe tbody tr th:only-of-type {\n",
       "        vertical-align: middle;\n",
       "    }\n",
       "\n",
       "    .dataframe tbody tr th {\n",
       "        vertical-align: top;\n",
       "    }\n",
       "\n",
       "    .dataframe thead th {\n",
       "        text-align: right;\n",
       "    }\n",
       "</style>\n",
       "<table border=\"1\" class=\"dataframe\">\n",
       "  <thead>\n",
       "    <tr style=\"text-align: right;\">\n",
       "      <th></th>\n",
       "      <th>Name</th>\n",
       "      <th>Words per Sentence (%)</th>\n",
       "      <th>Character per Words (%)</th>\n",
       "      <th>Syllables per Word (%)</th>\n",
       "      <th>Monosyllable per Word (%)</th>\n",
       "      <th>Complex Words per Word (%)</th>\n",
       "      <th>Advance Words per Words (%)</th>\n",
       "      <th>Common Words per Words (%)</th>\n",
       "      <th>Ditransverbs per Sentences (%)</th>\n",
       "      <th>Nouns per Sentence (%)</th>\n",
       "      <th>...</th>\n",
       "      <th>Linsear Write</th>\n",
       "      <th>Future Perfect Progressive (%)</th>\n",
       "      <th>Past Simple (%)</th>\n",
       "      <th>Present Perfect Progressive (%)</th>\n",
       "      <th>Past Perfect Progressive (%)</th>\n",
       "      <th>Past Progressive (%)</th>\n",
       "      <th>Future Simple (%)</th>\n",
       "      <th>Present Simple (%)</th>\n",
       "      <th>Past Perfect (%)</th>\n",
       "      <th>Present Progressive (%)</th>\n",
       "    </tr>\n",
       "  </thead>\n",
       "  <tbody>\n",
       "    <tr>\n",
       "      <th>0</th>\n",
       "      <td>Economist 6th 20</td>\n",
       "      <td>1119.711042</td>\n",
       "      <td>621.115207</td>\n",
       "      <td>205.917051</td>\n",
       "      <td>38.617512</td>\n",
       "      <td>30.479263</td>\n",
       "      <td>3.59447</td>\n",
       "      <td>21.465438</td>\n",
       "      <td>0.0</td>\n",
       "      <td>417.956656</td>\n",
       "      <td>...</td>\n",
       "      <td>67.069144</td>\n",
       "      <td>0.928793</td>\n",
       "      <td>13.003096</td>\n",
       "      <td>1.23839</td>\n",
       "      <td>1.754386</td>\n",
       "      <td>3.508772</td>\n",
       "      <td>11.145511</td>\n",
       "      <td>34.158927</td>\n",
       "      <td>22.703818</td>\n",
       "      <td>6.088751</td>\n",
       "    </tr>\n",
       "  </tbody>\n",
       "</table>\n",
       "<p>1 rows × 21 columns</p>\n",
       "</div>"
      ],
      "text/plain": [
       "               Name  Words per Sentence (%)  Character per Words (%)  \\\n",
       "0  Economist 6th 20             1119.711042               621.115207   \n",
       "\n",
       "   Syllables per Word (%)  Monosyllable per Word (%)  \\\n",
       "0              205.917051                  38.617512   \n",
       "\n",
       "   Complex Words per Word (%)  Advance Words per Words (%)  \\\n",
       "0                   30.479263                      3.59447   \n",
       "\n",
       "   Common Words per Words (%)  Ditransverbs per Sentences (%)  \\\n",
       "0                   21.465438                             0.0   \n",
       "\n",
       "   Nouns per Sentence (%)  ...  Linsear Write  Future Perfect Progressive (%)  \\\n",
       "0              417.956656  ...      67.069144                        0.928793   \n",
       "\n",
       "   Past Simple (%)  Present Perfect Progressive (%)  \\\n",
       "0        13.003096                          1.23839   \n",
       "\n",
       "   Past Perfect Progressive (%)  Past Progressive (%)  Future Simple (%)  \\\n",
       "0                      1.754386              3.508772          11.145511   \n",
       "\n",
       "   Present Simple (%)  Past Perfect (%)  Present Progressive (%)  \n",
       "0           34.158927         22.703818                 6.088751  \n",
       "\n",
       "[1 rows x 21 columns]"
      ]
     },
     "execution_count": 36,
     "metadata": {},
     "output_type": "execute_result"
    }
   ],
   "source": [
    "df_predict"
   ]
  },
  {
   "cell_type": "code",
   "execution_count": 37,
   "metadata": {},
   "outputs": [
    {
     "data": {
      "text/plain": [
       "Index(['Name', 'Words per Sentence (%)', 'Character per Words (%)',\n",
       "       'Syllables per Word (%)', 'Monosyllable per Word (%)',\n",
       "       'Complex Words per Word (%)', 'Advance Words per Words (%)',\n",
       "       'Common Words per Words (%)', 'Ditransverbs per Sentences (%)',\n",
       "       'Nouns per Sentence (%)', 'Adverb per Sentence (%)', 'Linsear Write',\n",
       "       'Future Perfect Progressive (%)', 'Past Simple (%)',\n",
       "       'Present Perfect Progressive (%)', 'Past Perfect Progressive (%)',\n",
       "       'Past Progressive (%)', 'Future Simple (%)', 'Present Simple (%)',\n",
       "       'Past Perfect (%)', 'Present Progressive (%)'],\n",
       "      dtype='object')"
      ]
     },
     "execution_count": 37,
     "metadata": {},
     "output_type": "execute_result"
    }
   ],
   "source": [
    "df_predict.columns"
   ]
  },
  {
   "cell_type": "code",
   "execution_count": null,
   "metadata": {},
   "outputs": [],
   "source": [
    "Index([ 'Words per Sentence (%)', 'Character per Words (%)',\n",
    "       'Syllables per Word (%)', 'Monosyllable per Word (%)',\n",
    "       'Complex Words per Word (%)', 'Advance Words per Words (%)',\n",
    "       'Common Words per Words (%)', 'Ditransverbs per Sentences (%)',\n",
    "       'Nouns per Sentence (%)', 'Adverb per Sentence (%)', 'Linsear Write',\n",
    "       'Future Perfect Progressive (%)', 'Past Simple (%)',\n",
    "       'Present Perfect Progressive (%)', 'Past Perfect Progressive (%)',\n",
    "       'Past Progressive (%)', 'Future Simple (%)', 'Present Simple (%)',\n",
    "       'Past Perfect (%)', 'Present Progressive (%)'],\n",
    "      dtype='object')"
   ]
  },
  {
   "cell_type": "code",
   "execution_count": 38,
   "metadata": {},
   "outputs": [
    {
     "name": "stdout",
     "output_type": "stream",
     "text": [
      "Index(['Name', 'Words per Sentence (%)', 'Character per Words (%)',\n",
      "       'Syllables per Word (%)', 'Monosyllable per Word (%)',\n",
      "       'Complex Words per Word (%)', 'Advance Words per Words (%)',\n",
      "       'Common Words per Words (%)', 'Ditransverbs per Sentences (%)',\n",
      "       'Nouns per Sentence (%)', 'Adverb per Sentence (%)', 'Linsear Write',\n",
      "       'Future Perfect Progressive (%)', 'Past Simple (%)',\n",
      "       'Present Perfect Progressive (%)', 'Past Perfect Progressive (%)',\n",
      "       'Past Progressive (%)', 'Future Simple (%)', 'Present Simple (%)',\n",
      "       'Past Perfect (%)', 'Present Progressive (%)'],\n",
      "      dtype='object')\n",
      "(1, 20)\n"
     ]
    },
    {
     "data": {
      "text/plain": [
       "array([4])"
      ]
     },
     "execution_count": 38,
     "metadata": {},
     "output_type": "execute_result"
    }
   ],
   "source": [
    "get_article_prediction(df_predict,model)"
   ]
  },
  {
   "cell_type": "code",
   "execution_count": 39,
   "metadata": {},
   "outputs": [
    {
     "name": "stdout",
     "output_type": "stream",
     "text": [
      "A-Series-of-Unfortunate-Events-3_-Lemony-Snicket-The-Wide-Window-HarperCollins-_2000_.txt\r\n",
      "Anna-Sewell-Black-Beauty-_Unabridged-Classics_-_Sterling-Classics_-Sterling-_2004_.txt\r\n",
      "Anna-Sewell-Black-Beauty_-His-Groom-and-Companions-_Courage-Literary-Classics_-_1999_.txt\r\n",
      "Anne-of-Green-Gables-volume-1_-L.-M.-Montgomery-Anne-of-Green-Gables-HarperCollins-_2010_.txt\r\n",
      "Barnes-_-Noble-Classics_-Louisa-May-Alcott_-Camille-Cauti-Little-Women-Illustrated-_Barnes-_-Noble-C.txt\r\n",
      "Charles-Dickens-_Dickens_-Charles_-A-Christmas-Carol-_Puffin-Classics_-Penguin-Books-Ltd-_2007_.txt\r\n",
      "Charles-and-Mary-Lamb-Tales-from-Shakespeare-Yesterday_s-Classics-_2007_.txt\r\n",
      "Chronicles-of-Narnia_-Publication-order-1_-C.-S.txt\r\n",
      "Dickens_-Charles_-Gibson_-Flo-Oliver-Twist-Simon-_-Schuster_Recorded-Books-_1987_.txt\r\n",
      "Enid-Blyton-Five-on-a-Treasure-Island-_Famous-Five_-Hodder-Childrens-_2001_.txt\r\n",
      "Forster_-Margaret-Good-Wives_-Mary_-Fanny_-Jennie-and-Me_-1845-2001-Random-House-_2016_.txt\r\n",
      "J.-M.-Barrie_-Amy-Billone-Peter-Pan-_Barnes-_-Noble-Classics-Series_-ˇ-Barnes-_-Noble.txt\r\n",
      "J.R.R.-Tolkien-The-Hobbit-or_-There-and-Back-Again-Graphia-_2002_.txt\r\n",
      "Jack-London-The-Call-of-the-Wild-and-White-Fang-Barnes-_-Noble-Classics-_2003_.txt\r\n",
      "L.-Frank-Baum_-W.-W.txt\r\n",
      "L.M.-Montgomery-Rainbow-Valley-_Anne-of-Green-Gables_-No.-7_.txt\r\n",
      "Lemony-Snicket-The-Austere-Academy-_A-Series-of-Unfortunate-Events-_5_-HarperCollins-_2000_.txt\r\n",
      "Mark-Twain-The-Adventures-of-Tom-Sawyer-_Floating-Press_-The-Floating-Press-_2008_.txt\r\n",
      "Michael-Palin-Around-The-World-In-Eighty-Days-Orion-_2010_.txt\r\n",
      "P-L-Travers-Mary-Poppins-_-the-complete-collection-HarperCollins-Children_sBooks-_2013_.txt\r\n",
      "Roald-Dahl-Charlie-and-the-Chocolate-Factory-Puffin-_2007_.txt\r\n",
      "Rudyard-Kipling-Just-So-Stories_-Illustrated-Edition-Yesterday_s-Classics-_2009_.txt\r\n",
      "Signet-Classics-Series_-Daniel-Defoe_-Robert-Mayer_-Paul-Theroux-_Introduction_-Robinson-Crusoe-SIGN.txt\r\n",
      "Wendy-McClure-The-Wilder-Life_-My-Adventures-in-the-Lost-World-of-Little-House-on-the-Prairie-Riverh.txt\r\n"
     ]
    }
   ],
   "source": [
    "ls /Users/mertmacbook/Google\\ Drive/Tooth\\ Identifier/Books/9_to_12/"
   ]
  },
  {
   "cell_type": "code",
   "execution_count": 42,
   "metadata": {},
   "outputs": [
    {
     "data": {
      "application/vnd.jupyter.widget-view+json": {
       "model_id": "5c1bd00ca9e34993a14447826d4c864d",
       "version_major": 2,
       "version_minor": 0
      },
      "text/plain": [
       "HBox(children=(IntProgress(value=0, max=5013), HTML(value='')))"
      ]
     },
     "metadata": {},
     "output_type": "display_data"
    },
    {
     "name": "stdout",
     "output_type": "stream",
     "text": [
      "<class 'IndexError'> TextComplexityReader.py 159  -  False\n",
      "list assignment index out of range\n",
      "<class 'IndexError'> TextComplexityReader.py 159  -  False\n",
      "list assignment index out of range\n",
      "<class 'IndexError'> TextComplexityReader.py 159  -  False\n",
      "list assignment index out of range\n",
      "<class 'IndexError'> TextComplexityReader.py 159  -  False\n",
      "list assignment index out of range\n",
      "<class 'IndexError'> TextComplexityReader.py 159  -  False\n",
      "list assignment index out of range\n",
      "<class 'IndexError'> TextComplexityReader.py 159  -  False\n",
      "list assignment index out of range\n",
      "<class 'IndexError'> TextComplexityReader.py 159  -  False\n",
      "list assignment index out of range\n",
      "<class 'IndexError'> TextComplexityReader.py 159  -  False\n",
      "list assignment index out of range\n",
      "\n"
     ]
    }
   ],
   "source": [
    "article = 'L.-Frank-Baum_-W.-W.txt'\n",
    "folder = '/Users/mertmacbook/Google Drive/Tooth Identifier/Books/9_to_12/'\n",
    "df_predict2 = get_article_df('L.-Frank-Baum_-W.-W',folder + article)"
   ]
  },
  {
   "cell_type": "code",
   "execution_count": 43,
   "metadata": {},
   "outputs": [
    {
     "name": "stdout",
     "output_type": "stream",
     "text": [
      "Index(['Name', 'Words per Sentence (%)', 'Character per Words (%)',\n",
      "       'Syllables per Word (%)', 'Monosyllable per Word (%)',\n",
      "       'Complex Words per Word (%)', 'Advance Words per Words (%)',\n",
      "       'Common Words per Words (%)', 'Ditransverbs per Sentences (%)',\n",
      "       'Nouns per Sentence (%)', 'Adverb per Sentence (%)', 'Linsear Write',\n",
      "       'Future Perfect Progressive (%)', 'Past Simple (%)',\n",
      "       'Present Perfect Progressive (%)', 'Past Perfect Progressive (%)',\n",
      "       'Past Progressive (%)', 'Future Simple (%)', 'Present Simple (%)',\n",
      "       'Past Perfect (%)', 'Present Progressive (%)'],\n",
      "      dtype='object')\n",
      "(1, 20)\n"
     ]
    },
    {
     "data": {
      "text/plain": [
       "array([3])"
      ]
     },
     "execution_count": 43,
     "metadata": {},
     "output_type": "execute_result"
    }
   ],
   "source": [
    "get_article_prediction(df_predict2,model)"
   ]
  },
  {
   "cell_type": "code",
   "execution_count": null,
   "metadata": {},
   "outputs": [],
   "source": []
  }
 ],
 "metadata": {
  "kernelspec": {
   "display_name": "Python 3",
   "language": "python",
   "name": "python3"
  },
  "language_info": {
   "codemirror_mode": {
    "name": "ipython",
    "version": 3
   },
   "file_extension": ".py",
   "mimetype": "text/x-python",
   "name": "python",
   "nbconvert_exporter": "python",
   "pygments_lexer": "ipython3",
   "version": "3.7.3"
  }
 },
 "nbformat": 4,
 "nbformat_minor": 2
}
