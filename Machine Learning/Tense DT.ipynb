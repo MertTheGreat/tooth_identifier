{
 "cells": [
  {
   "cell_type": "code",
   "execution_count": 2,
   "metadata": {
    "pycharm": {
     "is_executing": false
    }
   },
   "outputs": [],
   "source": [
    "import warnings\n",
    "warnings.filterwarnings(\"ignore\") # Don't want to see the warnings in the notebook"
   ]
  },
  {
   "cell_type": "code",
   "execution_count": 3,
   "metadata": {
    "pycharm": {
     "is_executing": false
    }
   },
   "outputs": [
    {
     "name": "stdout",
     "output_type": "stream",
     "text": [
      "Pixiedust database opened successfully\n"
     ]
    },
    {
     "data": {
      "text/html": [
       "\n",
       "        <div style=\"margin:10px\">\n",
       "            <a href=\"https://github.com/ibm-watson-data-lab/pixiedust\" target=\"_new\">\n",
       "                <img src=\"https://github.com/ibm-watson-data-lab/pixiedust/raw/master/docs/_static/pd_icon32.png\" style=\"float:left;margin-right:10px\"/>\n",
       "            </a>\n",
       "            <span>Pixiedust version 1.1.17</span>\n",
       "        </div>\n",
       "        "
      ],
      "text/plain": [
       "<IPython.core.display.HTML object>"
      ]
     },
     "metadata": {},
     "output_type": "display_data"
    },
    {
     "name": "stdout",
     "output_type": "stream",
     "text": [
      "Unable to check latest version <urlopen error [SSL: CERTIFICATE_VERIFY_FAILED] certificate verify failed: unable to get local issuer certificate (_ssl.c:1056)>\n"
     ]
    }
   ],
   "source": [
    "import time\n",
    "import numpy as np\n",
    "import pandas as pd\n",
    "import seaborn as sns\n",
    "import pickle\n",
    "import joblib\n",
    "from operator import itemgetter\n",
    "import matplotlib.pyplot as plt\n",
    "from sklearn import preprocessing\n",
    "from sklearn.tree import DecisionTreeClassifier\n",
    "from sklearn.model_selection import GridSearchCV, RandomizedSearchCV\n",
    "from sklearn import tree\n",
    "%matplotlib inline\n",
    "\n",
    "from sklearn import model_selection\n",
    "from sklearn.metrics import classification_report\n",
    "from sklearn.metrics import confusion_matrix\n",
    "from sklearn.metrics import accuracy_score\n",
    "\n",
    "from SentenceParcerForTenses import sentence_parser, sentence_adder\n",
    "\n",
    "import pixiedust"
   ]
  },
  {
   "cell_type": "markdown",
   "metadata": {},
   "source": [
    "# Reading The Data and Araging The Data Frame"
   ]
  },
  {
   "cell_type": "code",
   "execution_count": 72,
   "metadata": {
    "pycharm": {
     "is_executing": false
    }
   },
   "outputs": [],
   "source": [
    "#Let's read the csv file\n",
    "df = pd.read_csv('SentenceToTenses.csv', sep=',')"
   ]
  },
  {
   "cell_type": "code",
   "execution_count": 73,
   "metadata": {
    "pycharm": {
     "is_executing": false
    }
   },
   "outputs": [
    {
     "data": {
      "text/html": [
       "<div>\n",
       "<style scoped>\n",
       "    .dataframe tbody tr th:only-of-type {\n",
       "        vertical-align: middle;\n",
       "    }\n",
       "\n",
       "    .dataframe tbody tr th {\n",
       "        vertical-align: top;\n",
       "    }\n",
       "\n",
       "    .dataframe thead th {\n",
       "        text-align: right;\n",
       "    }\n",
       "</style>\n",
       "<table border=\"1\" class=\"dataframe\">\n",
       "  <thead>\n",
       "    <tr style=\"text-align: right;\">\n",
       "      <th></th>\n",
       "      <th>Unnamed: 0</th>\n",
       "      <th>text</th>\n",
       "      <th>verb1</th>\n",
       "      <th>verb2</th>\n",
       "      <th>verb3</th>\n",
       "      <th>verb4</th>\n",
       "      <th>verb5</th>\n",
       "      <th>verb6</th>\n",
       "      <th>time_exp1</th>\n",
       "      <th>time_exp2</th>\n",
       "      <th>time_exp3</th>\n",
       "      <th>time_exp4</th>\n",
       "      <th>time_exp5</th>\n",
       "      <th>tense</th>\n",
       "    </tr>\n",
       "  </thead>\n",
       "  <tbody>\n",
       "    <tr>\n",
       "      <th>0</th>\n",
       "      <td>0</td>\n",
       "      <td>I drive home every day.</td>\n",
       "      <td>verb, non-3rd person singular present</td>\n",
       "      <td>NaN</td>\n",
       "      <td>NaN</td>\n",
       "      <td>NaN</td>\n",
       "      <td>NaN</td>\n",
       "      <td>NaN</td>\n",
       "      <td>every</td>\n",
       "      <td>day</td>\n",
       "      <td>NaN</td>\n",
       "      <td>NaN</td>\n",
       "      <td>NaN</td>\n",
       "      <td>present simple</td>\n",
       "    </tr>\n",
       "    <tr>\n",
       "      <th>1</th>\n",
       "      <td>1</td>\n",
       "      <td>I drove home yesterday.</td>\n",
       "      <td>verb, past tense</td>\n",
       "      <td>NaN</td>\n",
       "      <td>NaN</td>\n",
       "      <td>NaN</td>\n",
       "      <td>NaN</td>\n",
       "      <td>NaN</td>\n",
       "      <td>yesterday</td>\n",
       "      <td>NaN</td>\n",
       "      <td>NaN</td>\n",
       "      <td>NaN</td>\n",
       "      <td>NaN</td>\n",
       "      <td>past simple</td>\n",
       "    </tr>\n",
       "    <tr>\n",
       "      <th>2</th>\n",
       "      <td>2</td>\n",
       "      <td>I will drive home later.</td>\n",
       "      <td>verb, modal auxiliary</td>\n",
       "      <td>verb, base form</td>\n",
       "      <td>NaN</td>\n",
       "      <td>NaN</td>\n",
       "      <td>NaN</td>\n",
       "      <td>NaN</td>\n",
       "      <td>NaN</td>\n",
       "      <td>NaN</td>\n",
       "      <td>NaN</td>\n",
       "      <td>NaN</td>\n",
       "      <td>NaN</td>\n",
       "      <td>future simple</td>\n",
       "    </tr>\n",
       "    <tr>\n",
       "      <th>3</th>\n",
       "      <td>3</td>\n",
       "      <td>I was driving when you called.</td>\n",
       "      <td>verb, past tense</td>\n",
       "      <td>verb, gerund or present participle</td>\n",
       "      <td>verb, past tense</td>\n",
       "      <td>NaN</td>\n",
       "      <td>NaN</td>\n",
       "      <td>NaN</td>\n",
       "      <td>when</td>\n",
       "      <td>NaN</td>\n",
       "      <td>NaN</td>\n",
       "      <td>NaN</td>\n",
       "      <td>NaN</td>\n",
       "      <td>past progressive</td>\n",
       "    </tr>\n",
       "    <tr>\n",
       "      <th>4</th>\n",
       "      <td>4</td>\n",
       "      <td>I am driving now.</td>\n",
       "      <td>verb, non-3rd person singular present</td>\n",
       "      <td>verb, gerund or present participle</td>\n",
       "      <td>NaN</td>\n",
       "      <td>NaN</td>\n",
       "      <td>NaN</td>\n",
       "      <td>NaN</td>\n",
       "      <td>now</td>\n",
       "      <td>NaN</td>\n",
       "      <td>NaN</td>\n",
       "      <td>NaN</td>\n",
       "      <td>NaN</td>\n",
       "      <td>present progressive</td>\n",
       "    </tr>\n",
       "  </tbody>\n",
       "</table>\n",
       "</div>"
      ],
      "text/plain": [
       "   Unnamed: 0                            text  \\\n",
       "0           0         I drive home every day.   \n",
       "1           1         I drove home yesterday.   \n",
       "2           2        I will drive home later.   \n",
       "3           3  I was driving when you called.   \n",
       "4           4               I am driving now.   \n",
       "\n",
       "                                   verb1                               verb2  \\\n",
       "0  verb, non-3rd person singular present                                 NaN   \n",
       "1                       verb, past tense                                 NaN   \n",
       "2                  verb, modal auxiliary                     verb, base form   \n",
       "3                       verb, past tense  verb, gerund or present participle   \n",
       "4  verb, non-3rd person singular present  verb, gerund or present participle   \n",
       "\n",
       "              verb3 verb4 verb5 verb6  time_exp1 time_exp2 time_exp3  \\\n",
       "0               NaN   NaN   NaN   NaN      every       day       NaN   \n",
       "1               NaN   NaN   NaN   NaN  yesterday       NaN       NaN   \n",
       "2               NaN   NaN   NaN   NaN        NaN       NaN       NaN   \n",
       "3  verb, past tense   NaN   NaN   NaN       when       NaN       NaN   \n",
       "4               NaN   NaN   NaN   NaN        now       NaN       NaN   \n",
       "\n",
       "  time_exp4 time_exp5                tense  \n",
       "0       NaN       NaN       present simple  \n",
       "1       NaN       NaN          past simple  \n",
       "2       NaN       NaN        future simple  \n",
       "3       NaN       NaN     past progressive  \n",
       "4       NaN       NaN  present progressive  "
      ]
     },
     "execution_count": 73,
     "metadata": {},
     "output_type": "execute_result"
    }
   ],
   "source": [
    "df.head()"
   ]
  },
  {
   "cell_type": "markdown",
   "metadata": {},
   "source": [
    "### Number of tense example in the data"
   ]
  },
  {
   "cell_type": "code",
   "execution_count": 74,
   "metadata": {
    "pycharm": {
     "is_executing": false
    }
   },
   "outputs": [
    {
     "name": "stdout",
     "output_type": "stream",
     "text": [
      "                       tense  count\n",
      "  future perfect progressive     33\n",
      "                 past simple     35\n",
      " present perfect progressive     35\n",
      "          future progressive     36\n",
      "    past perfect progressive     37\n",
      "            past progressive     49\n",
      "               future simple     51\n",
      "              future perfect     61\n",
      "             present perfect     64\n",
      "              present simple     64\n",
      "                past perfect     66\n",
      "         present progressive     74\n",
      "    NUMBER OF SENTENCES :        605\n"
     ]
    }
   ],
   "source": [
    "print(df.groupby('tense')['Unnamed: 0'].nunique().sort_values(ascending=True).reset_index(name='count').to_string(index=False))\n",
    "print('    NUMBER OF SENTENCES :        ' + str(df.shape[0]))"
   ]
  },
  {
   "cell_type": "code",
   "execution_count": 75,
   "metadata": {
    "pycharm": {
     "is_executing": false
    }
   },
   "outputs": [
    {
     "data": {
      "text/plain": [
       "verb1          2\n",
       "verb2         72\n",
       "verb3        315\n",
       "verb4        511\n",
       "verb5        578\n",
       "verb6        600\n",
       "time_exp1    141\n",
       "time_exp2    390\n",
       "time_exp3    530\n",
       "time_exp4    588\n",
       "time_exp5    599\n",
       "dtype: int64"
      ]
     },
     "execution_count": 75,
     "metadata": {},
     "output_type": "execute_result"
    }
   ],
   "source": [
    "null_columns=df.columns[df.isnull().any()]\n",
    "df[null_columns].isnull().sum()"
   ]
  },
  {
   "cell_type": "markdown",
   "metadata": {},
   "source": [
    "### Drop index numbers"
   ]
  },
  {
   "cell_type": "code",
   "execution_count": 76,
   "metadata": {
    "pycharm": {
     "is_executing": false
    }
   },
   "outputs": [],
   "source": [
    "df.drop(['Unnamed: 0'], inplace=True, axis=1)"
   ]
  },
  {
   "cell_type": "code",
   "execution_count": 77,
   "metadata": {
    "pycharm": {
     "is_executing": false
    }
   },
   "outputs": [
    {
     "data": {
      "text/plain": [
       "Index(['text', 'verb1', 'verb2', 'verb3', 'verb4', 'verb5', 'verb6',\n",
       "       'time_exp1', 'time_exp2', 'time_exp3', 'time_exp4', 'time_exp5',\n",
       "       'tense'],\n",
       "      dtype='object')"
      ]
     },
     "execution_count": 77,
     "metadata": {},
     "output_type": "execute_result"
    }
   ],
   "source": [
    "df.columns"
   ]
  },
  {
   "cell_type": "markdown",
   "metadata": {},
   "source": [
    "## Dummifiction"
   ]
  },
  {
   "cell_type": "code",
   "execution_count": 78,
   "metadata": {
    "pycharm": {
     "is_executing": false
    }
   },
   "outputs": [
    {
     "data": {
      "text/plain": [
       "['text',\n",
       " 'verb1',\n",
       " 'verb2',\n",
       " 'verb3',\n",
       " 'verb4',\n",
       " 'verb5',\n",
       " 'verb6',\n",
       " 'time_exp1',\n",
       " 'time_exp2',\n",
       " 'time_exp3',\n",
       " 'time_exp4',\n",
       " 'time_exp5',\n",
       " 'tense']"
      ]
     },
     "execution_count": 78,
     "metadata": {},
     "output_type": "execute_result"
    }
   ],
   "source": [
    "df_columns = df.columns.tolist()\n",
    "df_columns"
   ]
  },
  {
   "cell_type": "code",
   "execution_count": 79,
   "metadata": {
    "pycharm": {
     "is_executing": false
    }
   },
   "outputs": [
    {
     "data": {
      "text/plain": [
       "['verb1',\n",
       " 'verb2',\n",
       " 'verb3',\n",
       " 'verb4',\n",
       " 'verb5',\n",
       " 'verb6',\n",
       " 'time_exp1',\n",
       " 'time_exp2',\n",
       " 'time_exp3',\n",
       " 'time_exp4',\n",
       " 'time_exp5']"
      ]
     },
     "execution_count": 79,
     "metadata": {},
     "output_type": "execute_result"
    }
   ],
   "source": [
    "df_columns[1:len(df_columns)-1]"
   ]
  },
  {
   "cell_type": "code",
   "execution_count": 80,
   "metadata": {
    "pycharm": {
     "is_executing": false
    }
   },
   "outputs": [
    {
     "name": "stdout",
     "output_type": "stream",
     "text": [
      "<class 'pandas.core.frame.DataFrame'>\n",
      "RangeIndex: 605 entries, 0 to 604\n",
      "Columns: 167 entries, text to time_exp5_years\n",
      "dtypes: object(2), uint8(165)\n",
      "memory usage: 107.0+ KB\n"
     ]
    }
   ],
   "source": [
    "columnsForDummies = df_columns[1:len(df_columns)-1]\n",
    "dfd = pd.get_dummies(df, drop_first=True, columns=columnsForDummies)\n",
    "dfd.info()"
   ]
  },
  {
   "cell_type": "code",
   "execution_count": 81,
   "metadata": {},
   "outputs": [],
   "source": [
    "#dfd = dfd.reindex(sorted(dfd.columns), axis=1)"
   ]
  },
  {
   "cell_type": "code",
   "execution_count": 82,
   "metadata": {
    "pycharm": {
     "is_executing": false,
     "name": "#%%\n"
    }
   },
   "outputs": [
    {
     "name": "stdout",
     "output_type": "stream",
     "text": [
      "Index(['text', 'tense', 'verb1_verb, base form',\n",
      "       'verb1_verb, gerund or present participle',\n",
      "       'verb1_verb, modal auxiliary',\n",
      "       'verb1_verb, non-3rd person singular present', 'verb1_verb, past tense',\n",
      "       'verb2_verb, base form', 'verb2_verb, gerund or present participle',\n",
      "       'verb2_verb, modal auxiliary',\n",
      "       ...\n",
      "       'time_exp3_yesterday', 'time_exp4_by', 'time_exp4_for',\n",
      "       'time_exp4_night', 'time_exp4_time', 'time_exp4_week', 'time_exp4_year',\n",
      "       'time_exp4_years', 'time_exp5_this', 'time_exp5_years'],\n",
      "      dtype='object', length=167)\n",
      "-----------\n",
      "<class 'pandas.core.frame.DataFrame'>\n",
      "RangeIndex: 605 entries, 0 to 604\n",
      "Columns: 167 entries, text to time_exp5_years\n",
      "dtypes: object(2), uint8(165)\n",
      "memory usage: 107.0+ KB\n"
     ]
    }
   ],
   "source": [
    "print(dfd.columns)\n",
    "print('-----------')\n",
    "dfd.info()"
   ]
  },
  {
   "cell_type": "code",
   "execution_count": 83,
   "metadata": {},
   "outputs": [
    {
     "name": "stdout",
     "output_type": "stream",
     "text": [
      "<class 'pandas.core.frame.DataFrame'>\n",
      "RangeIndex: 605 entries, 0 to 604\n",
      "Data columns (total 13 columns):\n",
      "text         605 non-null object\n",
      "verb1        603 non-null object\n",
      "verb2        533 non-null object\n",
      "verb3        290 non-null object\n",
      "verb4        94 non-null object\n",
      "verb5        27 non-null object\n",
      "verb6        5 non-null object\n",
      "time_exp1    464 non-null object\n",
      "time_exp2    215 non-null object\n",
      "time_exp3    75 non-null object\n",
      "time_exp4    17 non-null object\n",
      "time_exp5    6 non-null object\n",
      "tense        605 non-null object\n",
      "dtypes: object(13)\n",
      "memory usage: 61.5+ KB\n"
     ]
    }
   ],
   "source": [
    "df.info()"
   ]
  },
  {
   "cell_type": "markdown",
   "metadata": {},
   "source": [
    "### Change tense as category"
   ]
  },
  {
   "cell_type": "code",
   "execution_count": 84,
   "metadata": {},
   "outputs": [],
   "source": [
    "df.tense = df.tense.astype('category')"
   ]
  },
  {
   "cell_type": "code",
   "execution_count": 85,
   "metadata": {},
   "outputs": [
    {
     "data": {
      "text/html": [
       "<div>\n",
       "<style scoped>\n",
       "    .dataframe tbody tr th:only-of-type {\n",
       "        vertical-align: middle;\n",
       "    }\n",
       "\n",
       "    .dataframe tbody tr th {\n",
       "        vertical-align: top;\n",
       "    }\n",
       "\n",
       "    .dataframe thead th {\n",
       "        text-align: right;\n",
       "    }\n",
       "</style>\n",
       "<table border=\"1\" class=\"dataframe\">\n",
       "  <thead>\n",
       "    <tr style=\"text-align: right;\">\n",
       "      <th></th>\n",
       "      <th>text</th>\n",
       "      <th>verb1</th>\n",
       "      <th>verb2</th>\n",
       "      <th>verb3</th>\n",
       "      <th>verb4</th>\n",
       "      <th>verb5</th>\n",
       "      <th>verb6</th>\n",
       "      <th>time_exp1</th>\n",
       "      <th>time_exp2</th>\n",
       "      <th>time_exp3</th>\n",
       "      <th>time_exp4</th>\n",
       "      <th>time_exp5</th>\n",
       "      <th>tense</th>\n",
       "    </tr>\n",
       "  </thead>\n",
       "  <tbody>\n",
       "    <tr>\n",
       "      <th>0</th>\n",
       "      <td>I drive home every day.</td>\n",
       "      <td>verb, non-3rd person singular present</td>\n",
       "      <td>NaN</td>\n",
       "      <td>NaN</td>\n",
       "      <td>NaN</td>\n",
       "      <td>NaN</td>\n",
       "      <td>NaN</td>\n",
       "      <td>every</td>\n",
       "      <td>day</td>\n",
       "      <td>NaN</td>\n",
       "      <td>NaN</td>\n",
       "      <td>NaN</td>\n",
       "      <td>present simple</td>\n",
       "    </tr>\n",
       "    <tr>\n",
       "      <th>1</th>\n",
       "      <td>I drove home yesterday.</td>\n",
       "      <td>verb, past tense</td>\n",
       "      <td>NaN</td>\n",
       "      <td>NaN</td>\n",
       "      <td>NaN</td>\n",
       "      <td>NaN</td>\n",
       "      <td>NaN</td>\n",
       "      <td>yesterday</td>\n",
       "      <td>NaN</td>\n",
       "      <td>NaN</td>\n",
       "      <td>NaN</td>\n",
       "      <td>NaN</td>\n",
       "      <td>past simple</td>\n",
       "    </tr>\n",
       "    <tr>\n",
       "      <th>2</th>\n",
       "      <td>I will drive home later.</td>\n",
       "      <td>verb, modal auxiliary</td>\n",
       "      <td>verb, base form</td>\n",
       "      <td>NaN</td>\n",
       "      <td>NaN</td>\n",
       "      <td>NaN</td>\n",
       "      <td>NaN</td>\n",
       "      <td>NaN</td>\n",
       "      <td>NaN</td>\n",
       "      <td>NaN</td>\n",
       "      <td>NaN</td>\n",
       "      <td>NaN</td>\n",
       "      <td>future simple</td>\n",
       "    </tr>\n",
       "    <tr>\n",
       "      <th>3</th>\n",
       "      <td>I was driving when you called.</td>\n",
       "      <td>verb, past tense</td>\n",
       "      <td>verb, gerund or present participle</td>\n",
       "      <td>verb, past tense</td>\n",
       "      <td>NaN</td>\n",
       "      <td>NaN</td>\n",
       "      <td>NaN</td>\n",
       "      <td>when</td>\n",
       "      <td>NaN</td>\n",
       "      <td>NaN</td>\n",
       "      <td>NaN</td>\n",
       "      <td>NaN</td>\n",
       "      <td>past progressive</td>\n",
       "    </tr>\n",
       "    <tr>\n",
       "      <th>4</th>\n",
       "      <td>I am driving now.</td>\n",
       "      <td>verb, non-3rd person singular present</td>\n",
       "      <td>verb, gerund or present participle</td>\n",
       "      <td>NaN</td>\n",
       "      <td>NaN</td>\n",
       "      <td>NaN</td>\n",
       "      <td>NaN</td>\n",
       "      <td>now</td>\n",
       "      <td>NaN</td>\n",
       "      <td>NaN</td>\n",
       "      <td>NaN</td>\n",
       "      <td>NaN</td>\n",
       "      <td>present progressive</td>\n",
       "    </tr>\n",
       "  </tbody>\n",
       "</table>\n",
       "</div>"
      ],
      "text/plain": [
       "                             text                                  verb1  \\\n",
       "0         I drive home every day.  verb, non-3rd person singular present   \n",
       "1         I drove home yesterday.                       verb, past tense   \n",
       "2        I will drive home later.                  verb, modal auxiliary   \n",
       "3  I was driving when you called.                       verb, past tense   \n",
       "4               I am driving now.  verb, non-3rd person singular present   \n",
       "\n",
       "                                verb2             verb3 verb4 verb5 verb6  \\\n",
       "0                                 NaN               NaN   NaN   NaN   NaN   \n",
       "1                                 NaN               NaN   NaN   NaN   NaN   \n",
       "2                     verb, base form               NaN   NaN   NaN   NaN   \n",
       "3  verb, gerund or present participle  verb, past tense   NaN   NaN   NaN   \n",
       "4  verb, gerund or present participle               NaN   NaN   NaN   NaN   \n",
       "\n",
       "   time_exp1 time_exp2 time_exp3 time_exp4 time_exp5                tense  \n",
       "0      every       day       NaN       NaN       NaN       present simple  \n",
       "1  yesterday       NaN       NaN       NaN       NaN          past simple  \n",
       "2        NaN       NaN       NaN       NaN       NaN        future simple  \n",
       "3       when       NaN       NaN       NaN       NaN     past progressive  \n",
       "4        now       NaN       NaN       NaN       NaN  present progressive  "
      ]
     },
     "execution_count": 85,
     "metadata": {},
     "output_type": "execute_result"
    }
   ],
   "source": [
    "df.head()"
   ]
  },
  {
   "cell_type": "code",
   "execution_count": 86,
   "metadata": {},
   "outputs": [
    {
     "data": {
      "text/plain": [
       "[present simple, past simple, future simple, past progressive, present progressive, ..., past perfect, future perfect, present perfect progressive, past perfect progressive, future perfect progressive]\n",
       "Length: 12\n",
       "Categories (12, object): [present simple, past simple, future simple, past progressive, ..., future perfect, present perfect progressive, past perfect progressive, future perfect progressive]"
      ]
     },
     "execution_count": 86,
     "metadata": {},
     "output_type": "execute_result"
    }
   ],
   "source": [
    "labels = df.tense.unique()\n",
    "labels"
   ]
  },
  {
   "cell_type": "markdown",
   "metadata": {},
   "source": [
    "## Label Encoding"
   ]
  },
  {
   "cell_type": "code",
   "execution_count": 87,
   "metadata": {},
   "outputs": [
    {
     "data": {
      "text/plain": [
       "array([11,  7,  3,  6, 10,  2,  8,  4,  0,  9,  5,  1])"
      ]
     },
     "execution_count": 87,
     "metadata": {},
     "output_type": "execute_result"
    }
   ],
   "source": [
    "label_encoder = preprocessing.LabelEncoder() \n",
    "df['tense']= label_encoder.fit_transform(df['tense']) \n",
    "  \n",
    "df['tense'].unique() "
   ]
  },
  {
   "cell_type": "code",
   "execution_count": 88,
   "metadata": {},
   "outputs": [
    {
     "data": {
      "text/plain": [
       "array(['future perfect', 'future perfect progressive',\n",
       "       'future progressive', 'future simple', 'past perfect',\n",
       "       'past perfect progressive', 'past progressive', 'past simple',\n",
       "       'present perfect', 'present perfect progressive',\n",
       "       'present progressive', 'present simple'], dtype=object)"
      ]
     },
     "execution_count": 88,
     "metadata": {},
     "output_type": "execute_result"
    }
   ],
   "source": [
    "label_encoder.inverse_transform([0,1,2,3,4,5,6,7,8,9,10,11])"
   ]
  },
  {
   "cell_type": "code",
   "execution_count": 21,
   "metadata": {},
   "outputs": [
    {
     "data": {
      "text/plain": [
       "0     11\n",
       "1      7\n",
       "2      3\n",
       "3      6\n",
       "4     10\n",
       "5      2\n",
       "6      8\n",
       "7      4\n",
       "8      0\n",
       "9      9\n",
       "10     5\n",
       "11     1\n",
       "12     7\n",
       "13    11\n",
       "14     3\n",
       "15     6\n",
       "16    10\n",
       "17     2\n",
       "18     4\n",
       "19     8\n",
       "Name: tense, dtype: int64"
      ]
     },
     "execution_count": 21,
     "metadata": {},
     "output_type": "execute_result"
    }
   ],
   "source": [
    "df.tense.head(20)"
   ]
  },
  {
   "cell_type": "markdown",
   "metadata": {},
   "source": [
    "# Decision Tree Classification"
   ]
  },
  {
   "cell_type": "code",
   "execution_count": 22,
   "metadata": {
    "pycharm": {
     "is_executing": false
    }
   },
   "outputs": [
    {
     "name": "stdout",
     "output_type": "stream",
     "text": [
      "X and y: (605, 165) (605,)\n"
     ]
    }
   ],
   "source": [
    "\n",
    "y = np.array(df.tense)\n",
    "X = np.array(dfd.drop(['text','tense'], axis=1))\n",
    "print('X and y:', X.shape, y.shape)"
   ]
  },
  {
   "cell_type": "code",
   "execution_count": 23,
   "metadata": {
    "pycharm": {
     "is_executing": false
    }
   },
   "outputs": [
    {
     "data": {
      "text/html": [
       "<div>\n",
       "<style scoped>\n",
       "    .dataframe tbody tr th:only-of-type {\n",
       "        vertical-align: middle;\n",
       "    }\n",
       "\n",
       "    .dataframe tbody tr th {\n",
       "        vertical-align: top;\n",
       "    }\n",
       "\n",
       "    .dataframe thead th {\n",
       "        text-align: right;\n",
       "    }\n",
       "</style>\n",
       "<table border=\"1\" class=\"dataframe\">\n",
       "  <thead>\n",
       "    <tr style=\"text-align: right;\">\n",
       "      <th></th>\n",
       "      <th>verb1_verb, base form</th>\n",
       "      <th>verb1_verb, gerund or present participle</th>\n",
       "      <th>verb1_verb, modal auxiliary</th>\n",
       "      <th>verb1_verb, non-3rd person singular present</th>\n",
       "      <th>verb1_verb, past tense</th>\n",
       "      <th>verb2_verb, base form</th>\n",
       "      <th>verb2_verb, gerund or present participle</th>\n",
       "      <th>verb2_verb, modal auxiliary</th>\n",
       "      <th>verb2_verb, non-3rd person singular present</th>\n",
       "      <th>verb2_verb, past participle</th>\n",
       "      <th>...</th>\n",
       "      <th>time_exp3_yesterday</th>\n",
       "      <th>time_exp4_by</th>\n",
       "      <th>time_exp4_for</th>\n",
       "      <th>time_exp4_night</th>\n",
       "      <th>time_exp4_time</th>\n",
       "      <th>time_exp4_week</th>\n",
       "      <th>time_exp4_year</th>\n",
       "      <th>time_exp4_years</th>\n",
       "      <th>time_exp5_this</th>\n",
       "      <th>time_exp5_years</th>\n",
       "    </tr>\n",
       "  </thead>\n",
       "  <tbody>\n",
       "    <tr>\n",
       "      <th>count</th>\n",
       "      <td>605.000000</td>\n",
       "      <td>605.000000</td>\n",
       "      <td>605.000000</td>\n",
       "      <td>605.000000</td>\n",
       "      <td>605.000000</td>\n",
       "      <td>605.000000</td>\n",
       "      <td>605.000000</td>\n",
       "      <td>605.000000</td>\n",
       "      <td>605.000000</td>\n",
       "      <td>605.000000</td>\n",
       "      <td>...</td>\n",
       "      <td>605.000000</td>\n",
       "      <td>605.000000</td>\n",
       "      <td>605.000000</td>\n",
       "      <td>605.000000</td>\n",
       "      <td>605.000000</td>\n",
       "      <td>605.000000</td>\n",
       "      <td>605.000000</td>\n",
       "      <td>605.000000</td>\n",
       "      <td>605.000000</td>\n",
       "      <td>605.000000</td>\n",
       "    </tr>\n",
       "    <tr>\n",
       "      <th>mean</th>\n",
       "      <td>0.018182</td>\n",
       "      <td>0.006612</td>\n",
       "      <td>0.246281</td>\n",
       "      <td>0.257851</td>\n",
       "      <td>0.295868</td>\n",
       "      <td>0.295868</td>\n",
       "      <td>0.228099</td>\n",
       "      <td>0.021488</td>\n",
       "      <td>0.019835</td>\n",
       "      <td>0.262810</td>\n",
       "      <td>...</td>\n",
       "      <td>0.001653</td>\n",
       "      <td>0.001653</td>\n",
       "      <td>0.008264</td>\n",
       "      <td>0.001653</td>\n",
       "      <td>0.003306</td>\n",
       "      <td>0.004959</td>\n",
       "      <td>0.004959</td>\n",
       "      <td>0.001653</td>\n",
       "      <td>0.001653</td>\n",
       "      <td>0.004959</td>\n",
       "    </tr>\n",
       "    <tr>\n",
       "      <th>std</th>\n",
       "      <td>0.133719</td>\n",
       "      <td>0.081109</td>\n",
       "      <td>0.431201</td>\n",
       "      <td>0.437814</td>\n",
       "      <td>0.456810</td>\n",
       "      <td>0.456810</td>\n",
       "      <td>0.419954</td>\n",
       "      <td>0.145123</td>\n",
       "      <td>0.139547</td>\n",
       "      <td>0.440524</td>\n",
       "      <td>...</td>\n",
       "      <td>0.040656</td>\n",
       "      <td>0.040656</td>\n",
       "      <td>0.090608</td>\n",
       "      <td>0.040656</td>\n",
       "      <td>0.057448</td>\n",
       "      <td>0.070301</td>\n",
       "      <td>0.070301</td>\n",
       "      <td>0.040656</td>\n",
       "      <td>0.040656</td>\n",
       "      <td>0.070301</td>\n",
       "    </tr>\n",
       "    <tr>\n",
       "      <th>min</th>\n",
       "      <td>0.000000</td>\n",
       "      <td>0.000000</td>\n",
       "      <td>0.000000</td>\n",
       "      <td>0.000000</td>\n",
       "      <td>0.000000</td>\n",
       "      <td>0.000000</td>\n",
       "      <td>0.000000</td>\n",
       "      <td>0.000000</td>\n",
       "      <td>0.000000</td>\n",
       "      <td>0.000000</td>\n",
       "      <td>...</td>\n",
       "      <td>0.000000</td>\n",
       "      <td>0.000000</td>\n",
       "      <td>0.000000</td>\n",
       "      <td>0.000000</td>\n",
       "      <td>0.000000</td>\n",
       "      <td>0.000000</td>\n",
       "      <td>0.000000</td>\n",
       "      <td>0.000000</td>\n",
       "      <td>0.000000</td>\n",
       "      <td>0.000000</td>\n",
       "    </tr>\n",
       "    <tr>\n",
       "      <th>25%</th>\n",
       "      <td>0.000000</td>\n",
       "      <td>0.000000</td>\n",
       "      <td>0.000000</td>\n",
       "      <td>0.000000</td>\n",
       "      <td>0.000000</td>\n",
       "      <td>0.000000</td>\n",
       "      <td>0.000000</td>\n",
       "      <td>0.000000</td>\n",
       "      <td>0.000000</td>\n",
       "      <td>0.000000</td>\n",
       "      <td>...</td>\n",
       "      <td>0.000000</td>\n",
       "      <td>0.000000</td>\n",
       "      <td>0.000000</td>\n",
       "      <td>0.000000</td>\n",
       "      <td>0.000000</td>\n",
       "      <td>0.000000</td>\n",
       "      <td>0.000000</td>\n",
       "      <td>0.000000</td>\n",
       "      <td>0.000000</td>\n",
       "      <td>0.000000</td>\n",
       "    </tr>\n",
       "    <tr>\n",
       "      <th>50%</th>\n",
       "      <td>0.000000</td>\n",
       "      <td>0.000000</td>\n",
       "      <td>0.000000</td>\n",
       "      <td>0.000000</td>\n",
       "      <td>0.000000</td>\n",
       "      <td>0.000000</td>\n",
       "      <td>0.000000</td>\n",
       "      <td>0.000000</td>\n",
       "      <td>0.000000</td>\n",
       "      <td>0.000000</td>\n",
       "      <td>...</td>\n",
       "      <td>0.000000</td>\n",
       "      <td>0.000000</td>\n",
       "      <td>0.000000</td>\n",
       "      <td>0.000000</td>\n",
       "      <td>0.000000</td>\n",
       "      <td>0.000000</td>\n",
       "      <td>0.000000</td>\n",
       "      <td>0.000000</td>\n",
       "      <td>0.000000</td>\n",
       "      <td>0.000000</td>\n",
       "    </tr>\n",
       "    <tr>\n",
       "      <th>75%</th>\n",
       "      <td>0.000000</td>\n",
       "      <td>0.000000</td>\n",
       "      <td>0.000000</td>\n",
       "      <td>1.000000</td>\n",
       "      <td>1.000000</td>\n",
       "      <td>1.000000</td>\n",
       "      <td>0.000000</td>\n",
       "      <td>0.000000</td>\n",
       "      <td>0.000000</td>\n",
       "      <td>1.000000</td>\n",
       "      <td>...</td>\n",
       "      <td>0.000000</td>\n",
       "      <td>0.000000</td>\n",
       "      <td>0.000000</td>\n",
       "      <td>0.000000</td>\n",
       "      <td>0.000000</td>\n",
       "      <td>0.000000</td>\n",
       "      <td>0.000000</td>\n",
       "      <td>0.000000</td>\n",
       "      <td>0.000000</td>\n",
       "      <td>0.000000</td>\n",
       "    </tr>\n",
       "    <tr>\n",
       "      <th>max</th>\n",
       "      <td>1.000000</td>\n",
       "      <td>1.000000</td>\n",
       "      <td>1.000000</td>\n",
       "      <td>1.000000</td>\n",
       "      <td>1.000000</td>\n",
       "      <td>1.000000</td>\n",
       "      <td>1.000000</td>\n",
       "      <td>1.000000</td>\n",
       "      <td>1.000000</td>\n",
       "      <td>1.000000</td>\n",
       "      <td>...</td>\n",
       "      <td>1.000000</td>\n",
       "      <td>1.000000</td>\n",
       "      <td>1.000000</td>\n",
       "      <td>1.000000</td>\n",
       "      <td>1.000000</td>\n",
       "      <td>1.000000</td>\n",
       "      <td>1.000000</td>\n",
       "      <td>1.000000</td>\n",
       "      <td>1.000000</td>\n",
       "      <td>1.000000</td>\n",
       "    </tr>\n",
       "  </tbody>\n",
       "</table>\n",
       "<p>8 rows × 165 columns</p>\n",
       "</div>"
      ],
      "text/plain": [
       "       verb1_verb, base form  verb1_verb, gerund or present participle  \\\n",
       "count             605.000000                                605.000000   \n",
       "mean                0.018182                                  0.006612   \n",
       "std                 0.133719                                  0.081109   \n",
       "min                 0.000000                                  0.000000   \n",
       "25%                 0.000000                                  0.000000   \n",
       "50%                 0.000000                                  0.000000   \n",
       "75%                 0.000000                                  0.000000   \n",
       "max                 1.000000                                  1.000000   \n",
       "\n",
       "       verb1_verb, modal auxiliary  \\\n",
       "count                   605.000000   \n",
       "mean                      0.246281   \n",
       "std                       0.431201   \n",
       "min                       0.000000   \n",
       "25%                       0.000000   \n",
       "50%                       0.000000   \n",
       "75%                       0.000000   \n",
       "max                       1.000000   \n",
       "\n",
       "       verb1_verb, non-3rd person singular present  verb1_verb, past tense  \\\n",
       "count                                   605.000000              605.000000   \n",
       "mean                                      0.257851                0.295868   \n",
       "std                                       0.437814                0.456810   \n",
       "min                                       0.000000                0.000000   \n",
       "25%                                       0.000000                0.000000   \n",
       "50%                                       0.000000                0.000000   \n",
       "75%                                       1.000000                1.000000   \n",
       "max                                       1.000000                1.000000   \n",
       "\n",
       "       verb2_verb, base form  verb2_verb, gerund or present participle  \\\n",
       "count             605.000000                                605.000000   \n",
       "mean                0.295868                                  0.228099   \n",
       "std                 0.456810                                  0.419954   \n",
       "min                 0.000000                                  0.000000   \n",
       "25%                 0.000000                                  0.000000   \n",
       "50%                 0.000000                                  0.000000   \n",
       "75%                 1.000000                                  0.000000   \n",
       "max                 1.000000                                  1.000000   \n",
       "\n",
       "       verb2_verb, modal auxiliary  \\\n",
       "count                   605.000000   \n",
       "mean                      0.021488   \n",
       "std                       0.145123   \n",
       "min                       0.000000   \n",
       "25%                       0.000000   \n",
       "50%                       0.000000   \n",
       "75%                       0.000000   \n",
       "max                       1.000000   \n",
       "\n",
       "       verb2_verb, non-3rd person singular present  \\\n",
       "count                                   605.000000   \n",
       "mean                                      0.019835   \n",
       "std                                       0.139547   \n",
       "min                                       0.000000   \n",
       "25%                                       0.000000   \n",
       "50%                                       0.000000   \n",
       "75%                                       0.000000   \n",
       "max                                       1.000000   \n",
       "\n",
       "       verb2_verb, past participle  ...  time_exp3_yesterday  time_exp4_by  \\\n",
       "count                   605.000000  ...           605.000000    605.000000   \n",
       "mean                      0.262810  ...             0.001653      0.001653   \n",
       "std                       0.440524  ...             0.040656      0.040656   \n",
       "min                       0.000000  ...             0.000000      0.000000   \n",
       "25%                       0.000000  ...             0.000000      0.000000   \n",
       "50%                       0.000000  ...             0.000000      0.000000   \n",
       "75%                       1.000000  ...             0.000000      0.000000   \n",
       "max                       1.000000  ...             1.000000      1.000000   \n",
       "\n",
       "       time_exp4_for  time_exp4_night  time_exp4_time  time_exp4_week  \\\n",
       "count     605.000000       605.000000      605.000000      605.000000   \n",
       "mean        0.008264         0.001653        0.003306        0.004959   \n",
       "std         0.090608         0.040656        0.057448        0.070301   \n",
       "min         0.000000         0.000000        0.000000        0.000000   \n",
       "25%         0.000000         0.000000        0.000000        0.000000   \n",
       "50%         0.000000         0.000000        0.000000        0.000000   \n",
       "75%         0.000000         0.000000        0.000000        0.000000   \n",
       "max         1.000000         1.000000        1.000000        1.000000   \n",
       "\n",
       "       time_exp4_year  time_exp4_years  time_exp5_this  time_exp5_years  \n",
       "count      605.000000       605.000000      605.000000       605.000000  \n",
       "mean         0.004959         0.001653        0.001653         0.004959  \n",
       "std          0.070301         0.040656        0.040656         0.070301  \n",
       "min          0.000000         0.000000        0.000000         0.000000  \n",
       "25%          0.000000         0.000000        0.000000         0.000000  \n",
       "50%          0.000000         0.000000        0.000000         0.000000  \n",
       "75%          0.000000         0.000000        0.000000         0.000000  \n",
       "max          1.000000         1.000000        1.000000         1.000000  \n",
       "\n",
       "[8 rows x 165 columns]"
      ]
     },
     "execution_count": 23,
     "metadata": {},
     "output_type": "execute_result"
    }
   ],
   "source": [
    "dfd.describe()"
   ]
  },
  {
   "cell_type": "code",
   "execution_count": 24,
   "metadata": {
    "pycharm": {
     "is_executing": false
    }
   },
   "outputs": [
    {
     "name": "stdout",
     "output_type": "stream",
     "text": [
      "Training and Test sizes: 423 182\n"
     ]
    }
   ],
   "source": [
    "seed = 40 #for reproducibility\n",
    "#--- Training and test portions of data\n",
    "X_train, X_test, y_train, y_test = model_selection.train_test_split(X, y, test_size=0.30, random_state=seed, stratify=y)\n",
    "print('Training and Test sizes:',len(X_train),len(X_test) ) #Dimension of the training and test sets"
   ]
  },
  {
   "cell_type": "code",
   "execution_count": 25,
   "metadata": {},
   "outputs": [
    {
     "data": {
      "text/plain": [
       "array([[0, 0, 0, ..., 0, 0, 0],\n",
       "       [0, 0, 0, ..., 0, 0, 0],\n",
       "       [0, 0, 0, ..., 0, 0, 0],\n",
       "       ...,\n",
       "       [0, 0, 0, ..., 0, 0, 0],\n",
       "       [0, 0, 1, ..., 0, 0, 0],\n",
       "       [0, 0, 0, ..., 0, 0, 0]], dtype=uint8)"
      ]
     },
     "execution_count": 25,
     "metadata": {},
     "output_type": "execute_result"
    }
   ],
   "source": [
    "X_train"
   ]
  },
  {
   "cell_type": "markdown",
   "metadata": {},
   "source": [
    "## Default DT Model"
   ]
  },
  {
   "cell_type": "code",
   "execution_count": 26,
   "metadata": {
    "pycharm": {
     "is_executing": false
    }
   },
   "outputs": [
    {
     "name": "stdout",
     "output_type": "stream",
     "text": [
      "CART training accuracy: 0.9314420803782506\n",
      "CART test accuracy    : 0.7857142857142857\n",
      "Tree max depth        : 23\n"
     ]
    }
   ],
   "source": [
    "def_clf = DecisionTreeClassifier(random_state=seed)\n",
    "def_clf.fit(X_train, y_train)\n",
    "trn_acc = accuracy_score(y_train, def_clf.predict(X_train))\n",
    "tst_acc = accuracy_score(y_test, def_clf.predict(X_test))\n",
    "\n",
    "print('CART training accuracy:', trn_acc)\n",
    "print('CART test accuracy    :', tst_acc)\n",
    "print('Tree max depth        :', def_clf.tree_.max_depth)"
   ]
  },
  {
   "cell_type": "markdown",
   "metadata": {},
   "source": [
    "## Grid Search"
   ]
  },
  {
   "cell_type": "code",
   "execution_count": 27,
   "metadata": {
    "pycharm": {
     "is_executing": false
    }
   },
   "outputs": [
    {
     "name": "stdout",
     "output_type": "stream",
     "text": [
      "\n",
      "Execution time: 1.3776099681854248 sec\n",
      "{'min_samples_split': 5, 'min_samples_leaf': 5, 'max_features': None, 'max_depth': 15, 'criterion': 'gini'}\n"
     ]
    },
    {
     "name": "stderr",
     "output_type": "stream",
     "text": [
      "/Library/Frameworks/Python.framework/Versions/3.7/lib/python3.7/site-packages/sklearn/model_selection/_search.py:813: DeprecationWarning: The default of the `iid` parameter will change from True to False in version 0.22 and will be removed in 0.24. This will change numeric results when test-set sizes are unequal.\n",
      "  DeprecationWarning)\n"
     ]
    }
   ],
   "source": [
    "# The function to measure the quality of a split\n",
    "criterion = ['entropy', 'gini']\n",
    "# Number of features to consider at every split\n",
    "max_features = [None, 'auto', 'sqrt']\n",
    "# Maximum number of levels in tree\n",
    "max_depth = [2, 5, 7, 10, 15, 20, 25]\n",
    "# Minimum number of samples required to split a node\n",
    "min_samples_split = [2, 3, 5, 10, 12, 15]\n",
    "# Minimum number of samples required at each leaf node\n",
    "min_samples_leaf = [1, 2, 3, 4, 5]\n",
    "# Create the random grid\n",
    "random_grid = {'criterion'        : criterion,\n",
    "               'max_features'     : max_features,\n",
    "               'max_depth'        : max_depth,\n",
    "               'min_samples_split': min_samples_split,\n",
    "               'min_samples_leaf' : min_samples_leaf}\n",
    "\n",
    "# Use the random grid to search for best hyperparameters\n",
    "# First create the base model to tune\n",
    "dt = DecisionTreeClassifier(random_state=seed)\n",
    "# Random search of parameters, using 3 fold cross validation,\n",
    "kfolds = model_selection.StratifiedKFold(n_splits=10, shuffle=True, random_state=seed)\n",
    "# search across different combinations, and use all available cores\n",
    "randomGrid = RandomizedSearchCV(estimator = dt, param_distributions = random_grid, cv = kfolds, random_state=seed, n_jobs = -1)\n",
    "# Fit the random search model\n",
    "start = time.time()\n",
    "randomGrid.fit(X_train, y_train)\n",
    "end = time.time()\n",
    "print()\n",
    "print('Execution time:', end-start, 'sec')\n",
    "\n",
    "# Best hyperparameters found\n",
    "print(randomGrid.best_params_)\n"
   ]
  },
  {
   "cell_type": "code",
   "execution_count": 28,
   "metadata": {
    "pycharm": {
     "is_executing": false
    }
   },
   "outputs": [
    {
     "name": "stdout",
     "output_type": "stream",
     "text": [
      "Avg CV scores in each fold:\n",
      " [0.33096927 0.36170213 0.28132388 0.8108747  0.32387707 0.3498818\n",
      " 0.20567376 0.37115839 0.62647754 0.20567376] \n",
      "\n",
      "Best CV score in all folds:\n",
      " 0.8108747044917257 \n",
      "\n",
      "Average CV score:\n",
      " 0.3867612293144208\n"
     ]
    }
   ],
   "source": [
    "# All parameters used in the classifier\n",
    "randomGrid.best_estimator_\n",
    "print('Avg CV scores in each fold:\\n', randomGrid.cv_results_['mean_test_score'], '\\n')\n",
    "print('Best CV score in all folds:\\n', randomGrid.best_score_, '\\n')\n",
    "print('Average CV score:\\n', np.mean(randomGrid.cv_results_['mean_test_score']))"
   ]
  },
  {
   "cell_type": "markdown",
   "metadata": {},
   "source": [
    "## Use Grid SearchCV"
   ]
  },
  {
   "cell_type": "code",
   "execution_count": 29,
   "metadata": {
    "pycharm": {
     "is_executing": false
    }
   },
   "outputs": [
    {
     "name": "stdout",
     "output_type": "stream",
     "text": [
      "Time elapsed : 3.441871 \n",
      "\n",
      "Best parameters:\n",
      " {'criterion': 'gini', 'max_depth': 8, 'min_samples_leaf': 3, 'min_samples_split': 10} \n",
      "\n",
      "Average CV accuracy: 0.7603551024428684\n"
     ]
    },
    {
     "name": "stderr",
     "output_type": "stream",
     "text": [
      "/Library/Frameworks/Python.framework/Versions/3.7/lib/python3.7/site-packages/sklearn/model_selection/_search.py:813: DeprecationWarning: The default of the `iid` parameter will change from True to False in version 0.22 and will be removed in 0.24. This will change numeric results when test-set sizes are unequal.\n",
      "  DeprecationWarning)\n"
     ]
    }
   ],
   "source": [
    "param_grid = {\"criterion\": ['gini'],\n",
    "              \"min_samples_split\": [2, 3, 4, 5, 7, 10],\n",
    "              \"max_depth\": [3, 5, 8, 10, 13, 15, 17, 20],\n",
    "              \"min_samples_leaf\": [3, 5, 7, 10]\n",
    "              }\n",
    "\n",
    "kfolds = model_selection.StratifiedKFold(n_splits=10, shuffle=True, random_state=seed)\n",
    "t_start = time.clock()\n",
    "grid_search = GridSearchCV(estimator = DecisionTreeClassifier(random_state=seed), \n",
    "                                                 param_grid=param_grid, cv=kfolds)\n",
    "grid_search.fit(X_train, y_train)\n",
    "t_end = time.clock()\n",
    "print('Time elapsed :', t_end-t_start, '\\n')\n",
    "print('Best parameters:\\n', grid_search.best_params_,'\\n')\n",
    "print('Average CV accuracy:', np.mean(grid_search.cv_results_['mean_test_score']))"
   ]
  },
  {
   "cell_type": "markdown",
   "metadata": {},
   "source": [
    "# Results"
   ]
  },
  {
   "cell_type": "markdown",
   "metadata": {},
   "source": [
    "## Train with the chosen hyperparameters and compute the test accuracy"
   ]
  },
  {
   "cell_type": "code",
   "execution_count": 30,
   "metadata": {
    "pycharm": {
     "is_executing": false
    }
   },
   "outputs": [
    {
     "name": "stdout",
     "output_type": "stream",
     "text": [
      "CART training accuracy: 0.8557919621749409\n",
      "CART test accuracy    : 0.8241758241758241\n"
     ]
    }
   ],
   "source": [
    "dt = DecisionTreeClassifier(criterion = 'gini', max_depth = 8, min_samples_split = 10, \n",
    "                            min_samples_leaf = 3, random_state=seed)\n",
    "dt.fit(X_train, y_train)\n",
    "trn_acc = accuracy_score(y_train, dt.predict(X_train))\n",
    "tst_acc = accuracy_score(y_test, dt.predict(X_test))\n",
    "\n",
    "\n",
    "\n",
    "print('CART training accuracy:', trn_acc)\n",
    "print('CART test accuracy    :', tst_acc)"
   ]
  },
  {
   "cell_type": "markdown",
   "metadata": {},
   "source": [
    "## Step 4 : Learning curves for Decision Trees"
   ]
  },
  {
   "cell_type": "code",
   "execution_count": 31,
   "metadata": {
    "pycharm": {
     "is_executing": false
    }
   },
   "outputs": [
    {
     "data": {
      "image/png": "[encoded data removed]",
      "text/plain": [
       "<Figure size 720x432 with 1 Axes>"
      ]
     },
     "metadata": {},
     "output_type": "display_data"
    }
   ],
   "source": [
    "from sklearn.model_selection import learning_curve\n",
    "# Put the following in a separate .py file and then use   %load filename.py   for importing it\n",
    "#Ref: http://scikit-learn.org/stable/modules/learning_curve.html\n",
    "def plot_learning_curve(estimator, title, X, y, ylim=None, cv=None,\n",
    "                        n_jobs=1, train_sizes=np.linspace(0.01, 1.0, 50)):\n",
    "    plt.figure(figsize=(10,6))\n",
    "    plt.title(title)\n",
    "    if ylim is not None:\n",
    "        plt.ylim(*ylim)\n",
    "    plt.xlabel(\"Training examples\")\n",
    "    plt.ylabel(\"Score\")\n",
    "    train_sizes, train_scores, test_scores = learning_curve(\n",
    "        estimator, X, y, cv=cv, n_jobs=n_jobs, train_sizes=train_sizes)\n",
    "    train_scores_mean = np.mean(train_scores, axis=1)\n",
    "    train_scores_std = np.std(train_scores, axis=1)\n",
    "    test_scores_mean = np.mean(test_scores, axis=1)\n",
    "    test_scores_std = np.std(test_scores, axis=1)\n",
    "\n",
    "    plt.fill_between(train_sizes, train_scores_mean - train_scores_std,\n",
    "                     train_scores_mean + train_scores_std, alpha=0.1,\n",
    "                     color=\"r\")\n",
    "    plt.fill_between(train_sizes, test_scores_mean - test_scores_std,\n",
    "                     test_scores_mean + test_scores_std, alpha=0.1, color=\"g\")\n",
    "    plt.plot(train_sizes, train_scores_mean, '-', color=\"r\",\n",
    "             label=\"Training score\")\n",
    "    plt.plot(train_sizes, test_scores_mean, '-', color=\"g\",\n",
    "             label=\"Cross-validation score\")\n",
    "\n",
    "    plt.legend(loc=\"best\")\n",
    "    plt.grid(\"on\")\n",
    "    return plt\n",
    "\n",
    "\n",
    "sns.set()\n",
    "kfold = model_selection.StratifiedKFold(n_splits=10, shuffle=True, random_state=seed)\n",
    "title = 'Learning Curves for Decision Tree'\n",
    "estimator = DecisionTreeClassifier(criterion='gini', max_depth=8, min_samples_split=20, \n",
    "                            min_samples_leaf=5, random_state=seed)\n",
    "plot_learning_curve(estimator, title, X, y, cv=kfold)\n",
    "plt.ylim(0.75, 1.0)\n",
    "plt.show()"
   ]
  },
  {
   "cell_type": "markdown",
   "metadata": {
    "pycharm": {
     "is_executing": false,
     "name": "#%%\n"
    }
   },
   "source": [
    "## save the model to disk"
   ]
  },
  {
   "cell_type": "code",
   "execution_count": 113,
   "metadata": {
    "pycharm": {
     "is_executing": false
    }
   },
   "outputs": [],
   "source": [
    "filename = 'tense_dt_model.sav'\n",
    "pickle.dump(dt, open(filename, 'wb'))"
   ]
  },
  {
   "cell_type": "code",
   "execution_count": 114,
   "metadata": {},
   "outputs": [
    {
     "data": {
      "text/plain": [
       "['tense_dt_model']"
      ]
     },
     "execution_count": 114,
     "metadata": {},
     "output_type": "execute_result"
    }
   ],
   "source": [
    "filename = 'tense_dt_model'\n",
    "joblib.dump(dt, filename)"
   ]
  },
  {
   "cell_type": "markdown",
   "metadata": {},
   "source": [
    "# Testing The Model With Unknown Data"
   ]
  },
  {
   "cell_type": "code",
   "execution_count": 126,
   "metadata": {},
   "outputs": [],
   "source": [
    "df_t = pd.read_csv('SentenceToTenses_test.csv')"
   ]
  },
  {
   "cell_type": "code",
   "execution_count": 127,
   "metadata": {
    "scrolled": true
   },
   "outputs": [
    {
     "data": {
      "text/html": [
       "<div>\n",
       "<style scoped>\n",
       "    .dataframe tbody tr th:only-of-type {\n",
       "        vertical-align: middle;\n",
       "    }\n",
       "\n",
       "    .dataframe tbody tr th {\n",
       "        vertical-align: top;\n",
       "    }\n",
       "\n",
       "    .dataframe thead th {\n",
       "        text-align: right;\n",
       "    }\n",
       "</style>\n",
       "<table border=\"1\" class=\"dataframe\">\n",
       "  <thead>\n",
       "    <tr style=\"text-align: right;\">\n",
       "      <th></th>\n",
       "      <th>Unnamed: 0</th>\n",
       "      <th>text</th>\n",
       "      <th>verb1</th>\n",
       "      <th>verb2</th>\n",
       "      <th>verb3</th>\n",
       "      <th>verb4</th>\n",
       "      <th>verb5</th>\n",
       "      <th>verb6</th>\n",
       "      <th>time_exp1</th>\n",
       "      <th>time_exp2</th>\n",
       "      <th>time_exp3</th>\n",
       "      <th>time_exp4</th>\n",
       "      <th>time_exp5</th>\n",
       "      <th>tense</th>\n",
       "    </tr>\n",
       "  </thead>\n",
       "  <tbody>\n",
       "    <tr>\n",
       "      <th>0</th>\n",
       "      <td>0</td>\n",
       "      <td>My breakfast will have been ready.</td>\n",
       "      <td>verb, modal auxiliary</td>\n",
       "      <td>verb, base form</td>\n",
       "      <td>verb, past participle</td>\n",
       "      <td>NaN</td>\n",
       "      <td>NaN</td>\n",
       "      <td>NaN</td>\n",
       "      <td>NaN</td>\n",
       "      <td>NaN</td>\n",
       "      <td>NaN</td>\n",
       "      <td>NaN</td>\n",
       "      <td>NaN</td>\n",
       "      <td>0</td>\n",
       "    </tr>\n",
       "    <tr>\n",
       "      <th>1</th>\n",
       "      <td>1</td>\n",
       "      <td>We will have been studying for 3 days by the t...</td>\n",
       "      <td>verb, modal auxiliary</td>\n",
       "      <td>verb, base form</td>\n",
       "      <td>verb, past participle</td>\n",
       "      <td>verb, gerund or present participle</td>\n",
       "      <td>verb, 3rd person singular present</td>\n",
       "      <td>NaN</td>\n",
       "      <td>for</td>\n",
       "      <td>days</td>\n",
       "      <td>by</td>\n",
       "      <td>time</td>\n",
       "      <td>NaN</td>\n",
       "      <td>0</td>\n",
       "    </tr>\n",
       "    <tr>\n",
       "      <th>2</th>\n",
       "      <td>2</td>\n",
       "      <td>She will have been working for 2 hours when we...</td>\n",
       "      <td>verb, modal auxiliary</td>\n",
       "      <td>verb, base form</td>\n",
       "      <td>verb, past participle</td>\n",
       "      <td>verb, gerund or present participle</td>\n",
       "      <td>verb, non-3rd person singular present</td>\n",
       "      <td>NaN</td>\n",
       "      <td>for</td>\n",
       "      <td>when</td>\n",
       "      <td>NaN</td>\n",
       "      <td>NaN</td>\n",
       "      <td>NaN</td>\n",
       "      <td>0</td>\n",
       "    </tr>\n",
       "    <tr>\n",
       "      <th>3</th>\n",
       "      <td>3</td>\n",
       "      <td>I worked yesterday.</td>\n",
       "      <td>verb, past tense</td>\n",
       "      <td>NaN</td>\n",
       "      <td>NaN</td>\n",
       "      <td>NaN</td>\n",
       "      <td>NaN</td>\n",
       "      <td>NaN</td>\n",
       "      <td>yesterday</td>\n",
       "      <td>NaN</td>\n",
       "      <td>NaN</td>\n",
       "      <td>NaN</td>\n",
       "      <td>NaN</td>\n",
       "      <td>7</td>\n",
       "    </tr>\n",
       "    <tr>\n",
       "      <th>4</th>\n",
       "      <td>4</td>\n",
       "      <td>She liked the movie.</td>\n",
       "      <td>verb, past tense</td>\n",
       "      <td>NaN</td>\n",
       "      <td>NaN</td>\n",
       "      <td>NaN</td>\n",
       "      <td>NaN</td>\n",
       "      <td>NaN</td>\n",
       "      <td>NaN</td>\n",
       "      <td>NaN</td>\n",
       "      <td>NaN</td>\n",
       "      <td>NaN</td>\n",
       "      <td>NaN</td>\n",
       "      <td>7</td>\n",
       "    </tr>\n",
       "  </tbody>\n",
       "</table>\n",
       "</div>"
      ],
      "text/plain": [
       "   Unnamed: 0                                               text  \\\n",
       "0           0                 My breakfast will have been ready.   \n",
       "1           1  We will have been studying for 3 days by the t...   \n",
       "2           2  She will have been working for 2 hours when we...   \n",
       "3           3                                I worked yesterday.   \n",
       "4           4                               She liked the movie.   \n",
       "\n",
       "                   verb1            verb2                  verb3  \\\n",
       "0  verb, modal auxiliary  verb, base form  verb, past participle   \n",
       "1  verb, modal auxiliary  verb, base form  verb, past participle   \n",
       "2  verb, modal auxiliary  verb, base form  verb, past participle   \n",
       "3       verb, past tense              NaN                    NaN   \n",
       "4       verb, past tense              NaN                    NaN   \n",
       "\n",
       "                                verb4                                  verb5  \\\n",
       "0                                 NaN                                    NaN   \n",
       "1  verb, gerund or present participle      verb, 3rd person singular present   \n",
       "2  verb, gerund or present participle  verb, non-3rd person singular present   \n",
       "3                                 NaN                                    NaN   \n",
       "4                                 NaN                                    NaN   \n",
       "\n",
       "   verb6  time_exp1 time_exp2 time_exp3 time_exp4  time_exp5  tense  \n",
       "0    NaN        NaN       NaN       NaN       NaN        NaN      0  \n",
       "1    NaN        for      days        by      time        NaN      0  \n",
       "2    NaN        for      when       NaN       NaN        NaN      0  \n",
       "3    NaN  yesterday       NaN       NaN       NaN        NaN      7  \n",
       "4    NaN        NaN       NaN       NaN       NaN        NaN      7  "
      ]
     },
     "execution_count": 127,
     "metadata": {},
     "output_type": "execute_result"
    }
   ],
   "source": [
    "df_t.head()"
   ]
  },
  {
   "cell_type": "code",
   "execution_count": 128,
   "metadata": {},
   "outputs": [
    {
     "name": "stdout",
     "output_type": "stream",
     "text": [
      " tense  count\n",
      "     0      3\n",
      "     3      3\n",
      "    10      3\n",
      "     7      4\n",
      "    11      7\n",
      "    NUMBER OF SENTENCES :        20\n"
     ]
    }
   ],
   "source": [
    "print(df_t.groupby('tense')['Unnamed: 0'].nunique().sort_values(ascending=True).reset_index(name='count').to_string(index=False))\n",
    "print('    NUMBER OF SENTENCES :        ' + str(df_t.shape[0]))"
   ]
  },
  {
   "cell_type": "code",
   "execution_count": 129,
   "metadata": {},
   "outputs": [
    {
     "data": {
      "text/plain": [
       "Index(['text', 'verb1', 'verb2', 'verb3', 'verb4', 'verb5', 'verb6',\n",
       "       'time_exp1', 'time_exp2', 'time_exp3', 'time_exp4', 'time_exp5',\n",
       "       'tense'],\n",
       "      dtype='object')"
      ]
     },
     "execution_count": 129,
     "metadata": {},
     "output_type": "execute_result"
    }
   ],
   "source": [
    "df_t.drop(['Unnamed: 0'], inplace=True, axis=1)\n",
    "df_t.columns"
   ]
  },
  {
   "cell_type": "code",
   "execution_count": 130,
   "metadata": {},
   "outputs": [
    {
     "data": {
      "text/plain": [
       "array([ 0,  7,  3, 10, 11])"
      ]
     },
     "execution_count": 130,
     "metadata": {},
     "output_type": "execute_result"
    }
   ],
   "source": [
    "df_t['tense'].unique()"
   ]
  },
  {
   "cell_type": "code",
   "execution_count": 131,
   "metadata": {},
   "outputs": [
    {
     "name": "stdout",
     "output_type": "stream",
     "text": [
      "<class 'pandas.core.frame.DataFrame'>\n",
      "RangeIndex: 20 entries, 0 to 19\n",
      "Data columns (total 20 columns):\n",
      "text                                           20 non-null object\n",
      "verb1_verb, modal auxiliary                    20 non-null uint8\n",
      "verb1_verb, non-3rd person singular present    20 non-null uint8\n",
      "verb1_verb, past tense                         20 non-null uint8\n",
      "verb2_verb, gerund or present participle       20 non-null uint8\n",
      "verb3_verb, past participle                    20 non-null uint8\n",
      "verb5_verb, non-3rd person singular present    20 non-null uint8\n",
      "time_exp1_for                                  20 non-null uint8\n",
      "time_exp1_last                                 20 non-null uint8\n",
      "time_exp1_right                                20 non-null uint8\n",
      "time_exp1_tomorrow                             20 non-null uint8\n",
      "time_exp1_yesterday                            20 non-null uint8\n",
      "time_exp2_days                                 20 non-null uint8\n",
      "time_exp2_now                                  20 non-null uint8\n",
      "time_exp2_week                                 20 non-null uint8\n",
      "time_exp2_when                                 20 non-null uint8\n",
      "tense_3                                        20 non-null uint8\n",
      "tense_7                                        20 non-null uint8\n",
      "tense_10                                       20 non-null uint8\n",
      "tense_11                                       20 non-null uint8\n",
      "dtypes: object(1), uint8(19)\n",
      "memory usage: 620.0+ bytes\n"
     ]
    }
   ],
   "source": [
    "df_columns = df.columns.tolist()\n",
    "columnsForDummies = df_columns[1:]\n",
    "df_td = pd.get_dummies(df_t, drop_first=True, columns=columnsForDummies)\n",
    "df_td.info()"
   ]
  },
  {
   "cell_type": "code",
   "execution_count": 132,
   "metadata": {},
   "outputs": [
    {
     "name": "stdout",
     "output_type": "stream",
     "text": [
      "<class 'pandas.core.frame.DataFrame'>\n",
      "RangeIndex: 20 entries, 0 to 19\n",
      "Columns: 167 entries, text to time_exp5_years\n",
      "dtypes: int64(151), object(1), uint8(15)\n",
      "memory usage: 24.1+ KB\n"
     ]
    }
   ],
   "source": [
    "for col in dfd.columns.tolist():\n",
    "    if col not in df_td.columns:\n",
    "        df_td[col] = 0\n",
    "\n",
    "for d_col in df_td.columns:\n",
    "    if d_col not in dfd.columns.tolist():\n",
    "        df_td = df_td.drop([d_col], axis=1)\n",
    "        \n",
    "df_td.info()"
   ]
  },
  {
   "cell_type": "code",
   "execution_count": 133,
   "metadata": {},
   "outputs": [
    {
     "name": "stdout",
     "output_type": "stream",
     "text": [
      "<class 'pandas.core.frame.DataFrame'>\n",
      "RangeIndex: 20 entries, 0 to 19\n",
      "Columns: 167 entries, text to time_exp5_years\n",
      "dtypes: int64(151), object(1), uint8(15)\n",
      "memory usage: 24.1+ KB\n"
     ]
    }
   ],
   "source": [
    "df_td = df_td.reindex(dfd.columns, axis=1)\n",
    "df_td.info()"
   ]
  },
  {
   "cell_type": "code",
   "execution_count": 134,
   "metadata": {},
   "outputs": [
    {
     "name": "stdout",
     "output_type": "stream",
     "text": [
      "<class 'pandas.core.frame.DataFrame'>\n",
      "RangeIndex: 605 entries, 0 to 604\n",
      "Columns: 167 entries, text to time_exp5_years\n",
      "dtypes: object(2), uint8(165)\n",
      "memory usage: 107.0+ KB\n"
     ]
    }
   ],
   "source": [
    "dfd.info()"
   ]
  },
  {
   "cell_type": "code",
   "execution_count": 135,
   "metadata": {},
   "outputs": [
    {
     "name": "stdout",
     "output_type": "stream",
     "text": [
      "X and y: (20, 165) (20,)\n"
     ]
    }
   ],
   "source": [
    "y = np.array(df_t['tense'])\n",
    "X = np.array(df_td.drop(['text','tense'], axis=1))\n",
    "print('X and y:', X.shape, y.shape)"
   ]
  },
  {
   "cell_type": "code",
   "execution_count": 136,
   "metadata": {},
   "outputs": [
    {
     "data": {
      "text/plain": [
       "0.9"
      ]
     },
     "execution_count": 136,
     "metadata": {},
     "output_type": "execute_result"
    }
   ],
   "source": [
    "dt.score(X,y)"
   ]
  },
  {
   "cell_type": "code",
   "execution_count": 137,
   "metadata": {},
   "outputs": [
    {
     "data": {
      "text/plain": [
       "array([ 0,  0,  0,  7,  7,  7,  7,  3,  3,  3, 10, 10, 10, 10, 10, 11, 11,\n",
       "       11, 11, 11])"
      ]
     },
     "execution_count": 137,
     "metadata": {},
     "output_type": "execute_result"
    }
   ],
   "source": [
    "dt.predict(X)"
   ]
  },
  {
   "cell_type": "markdown",
   "metadata": {},
   "source": [
    "## Predictions"
   ]
  },
  {
   "cell_type": "code",
   "execution_count": 50,
   "metadata": {},
   "outputs": [
    {
     "name": "stdout",
     "output_type": "stream",
     "text": [
      "TEXT       POS      TAG     Tag Explained                                Is Alpha  Is Stop  Num     \n",
      "--------------------------------------------------------------------------------------------------\n",
      "My         DET      PRP$    pronoun, possessive                          True      True     False   \n",
      "breakfast  NOUN     NN      noun, singular or mass                       True      False    False   \n",
      "will       VERB     MD      verb, modal auxiliary                        True      True     False   \n",
      "have       VERB     VB      verb, base form                              True      True     False   \n",
      "been       VERB     VBN     verb, past participle                        True      True     False   \n",
      "ready      ADJ      JJ      adjective                                    True      False    False   \n",
      ".          PUNCT    .       punctuation mark, sentence closer            False     False    False   \n",
      "--------------------------------------------------------------------------------------------------\n",
      "\n",
      "\n"
     ]
    },
    {
     "data": {
      "text/html": [
       "<div>\n",
       "<style scoped>\n",
       "    .dataframe tbody tr th:only-of-type {\n",
       "        vertical-align: middle;\n",
       "    }\n",
       "\n",
       "    .dataframe tbody tr th {\n",
       "        vertical-align: top;\n",
       "    }\n",
       "\n",
       "    .dataframe thead th {\n",
       "        text-align: right;\n",
       "    }\n",
       "</style>\n",
       "<table border=\"1\" class=\"dataframe\">\n",
       "  <thead>\n",
       "    <tr style=\"text-align: right;\">\n",
       "      <th></th>\n",
       "      <th>text</th>\n",
       "      <th>verb1</th>\n",
       "      <th>verb2</th>\n",
       "      <th>verb3</th>\n",
       "      <th>verb4</th>\n",
       "      <th>verb5</th>\n",
       "      <th>verb6</th>\n",
       "      <th>time_exp1</th>\n",
       "      <th>time_exp2</th>\n",
       "      <th>time_exp3</th>\n",
       "      <th>time_exp4</th>\n",
       "      <th>time_exp5</th>\n",
       "      <th>tense</th>\n",
       "    </tr>\n",
       "  </thead>\n",
       "  <tbody>\n",
       "    <tr>\n",
       "      <th>23</th>\n",
       "      <td>My breakfast will have been ready.</td>\n",
       "      <td>verb, modal auxiliary</td>\n",
       "      <td>verb, base form</td>\n",
       "      <td>verb, past participle</td>\n",
       "      <td>NaN</td>\n",
       "      <td>NaN</td>\n",
       "      <td>NaN</td>\n",
       "      <td>NaN</td>\n",
       "      <td>NaN</td>\n",
       "      <td>NaN</td>\n",
       "      <td>NaN</td>\n",
       "      <td>NaN</td>\n",
       "      <td>NaN</td>\n",
       "    </tr>\n",
       "  </tbody>\n",
       "</table>\n",
       "</div>"
      ],
      "text/plain": [
       "                                  text                  verb1  \\\n",
       "23  My breakfast will have been ready.  verb, modal auxiliary   \n",
       "\n",
       "              verb2                  verb3 verb4 verb5 verb6 time_exp1  \\\n",
       "23  verb, base form  verb, past participle   NaN   NaN   NaN       NaN   \n",
       "\n",
       "   time_exp2 time_exp3 time_exp4 time_exp5 tense  \n",
       "23       NaN       NaN       NaN       NaN   NaN  "
      ]
     },
     "metadata": {},
     "output_type": "display_data"
    }
   ],
   "source": [
    "sentence_adder('My breakfast will have been ready.', 'NaN', 'SentenceToTenses_test.csv', \n",
    "               num_col=True, print_it=True)"
   ]
  },
  {
   "cell_type": "code",
   "execution_count": 51,
   "metadata": {
    "pixiedust": {
     "displayParams": {}
    }
   },
   "outputs": [],
   "source": [
    "def tense_predictorH(sentence_df, model_df, model_df_d, model, encoder=None):\n",
    "    \n",
    "    \n",
    "    if 'Unnamed: 0' in sentence_df.columns:\n",
    "        sentence_df.drop(['Unnamed: 0'], inplace=True, axis=1)\n",
    "\n",
    "\n",
    "    df_columns = model_df.columns.tolist()\n",
    "    columnsForDummies = df_columns[1:]\n",
    "    df_td = pd.get_dummies(sentence_df, drop_first=False, columns=columnsForDummies)\n",
    "\n",
    "    for col in model_df_d.columns.tolist():\n",
    "        if col not in df_td.columns:\n",
    "            df_td[col] = 0\n",
    "\n",
    "    for d_col in df_td.columns:\n",
    "        if d_col not in model_df_d.columns.tolist():\n",
    "            df_td = df_td.drop([d_col], axis=1)\n",
    "\n",
    "    df_td = df_td.reindex(model_df_d.columns, axis=1)\n",
    "    \n",
    "    df_td.to_csv('sen_test.csv')\n",
    "\n",
    "    X = np.array(df_td.drop(['text', 'tense'], axis=1))\n",
    "\n",
    "    if encoder is None:\n",
    "        prediction = model.predict(X)\n",
    "    else:\n",
    "        prediction = encoder.inverse_transform(model.predict(X))\n",
    "    \n",
    "    return prediction\n"
   ]
  },
  {
   "cell_type": "code",
   "execution_count": 54,
   "metadata": {
    "pycharm": {
     "is_executing": false
    }
   },
   "outputs": [
    {
     "name": "stdout",
     "output_type": "stream",
     "text": [
      "TEXT       POS      TAG     Tag Explained                                Is Alpha  Is Stop  Num     \n",
      "--------------------------------------------------------------------------------------------------\n",
      "I          PRON     PRP     pronoun, personal                            True      True     False   \n",
      "was        VERB     VBD     verb, past tense                             True      True     False   \n",
      "home       ADV      RB      adverb                                       True      False    False   \n",
      "last       ADJ      JJ      adjective                                    True      True     False   \n",
      "night      NOUN     NN      noun, singular or mass                       True      False    False   \n",
      ".          PUNCT    .       punctuation mark, sentence closer            False     False    False   \n",
      "--------------------------------------------------------------------------------------------------\n",
      "\n",
      "\n"
     ]
    },
    {
     "data": {
      "text/html": [
       "<div>\n",
       "<style scoped>\n",
       "    .dataframe tbody tr th:only-of-type {\n",
       "        vertical-align: middle;\n",
       "    }\n",
       "\n",
       "    .dataframe tbody tr th {\n",
       "        vertical-align: top;\n",
       "    }\n",
       "\n",
       "    .dataframe thead th {\n",
       "        text-align: right;\n",
       "    }\n",
       "</style>\n",
       "<table border=\"1\" class=\"dataframe\">\n",
       "  <thead>\n",
       "    <tr style=\"text-align: right;\">\n",
       "      <th></th>\n",
       "      <th>text</th>\n",
       "      <th>verb1</th>\n",
       "      <th>verb2</th>\n",
       "      <th>verb3</th>\n",
       "      <th>verb4</th>\n",
       "      <th>verb5</th>\n",
       "      <th>verb6</th>\n",
       "      <th>time_exp1</th>\n",
       "      <th>time_exp2</th>\n",
       "      <th>time_exp3</th>\n",
       "      <th>time_exp4</th>\n",
       "      <th>time_exp5</th>\n",
       "      <th>tense</th>\n",
       "    </tr>\n",
       "  </thead>\n",
       "  <tbody>\n",
       "    <tr>\n",
       "      <th>0</th>\n",
       "      <td>I was home last night.</td>\n",
       "      <td>verb, past tense</td>\n",
       "      <td>NaN</td>\n",
       "      <td>NaN</td>\n",
       "      <td>NaN</td>\n",
       "      <td>NaN</td>\n",
       "      <td>NaN</td>\n",
       "      <td>last</td>\n",
       "      <td>night</td>\n",
       "      <td>NaN</td>\n",
       "      <td>NaN</td>\n",
       "      <td>NaN</td>\n",
       "      <td></td>\n",
       "    </tr>\n",
       "  </tbody>\n",
       "</table>\n",
       "</div>"
      ],
      "text/plain": [
       "                     text             verb1 verb2 verb3 verb4 verb5 verb6  \\\n",
       "0  I was home last night.  verb, past tense   NaN   NaN   NaN   NaN   NaN   \n",
       "\n",
       "  time_exp1 time_exp2 time_exp3 time_exp4 time_exp5 tense  \n",
       "0      last     night       NaN       NaN       NaN        "
      ]
     },
     "execution_count": 54,
     "metadata": {},
     "output_type": "execute_result"
    }
   ],
   "source": [
    "sen_df = sentence_parser('I was home last night.')\n",
    "sen_df"
   ]
  },
  {
   "cell_type": "code",
   "execution_count": 55,
   "metadata": {
    "pycharm": {
     "is_executing": false
    }
   },
   "outputs": [
    {
     "data": {
      "text/plain": [
       "array(['past simple'], dtype=object)"
      ]
     },
     "execution_count": 55,
     "metadata": {},
     "output_type": "execute_result"
    }
   ],
   "source": [
    "tense_predictorH(sen_df, df, dfd, dt, label_encoder)"
   ]
  },
  {
   "cell_type": "code",
   "execution_count": 101,
   "metadata": {},
   "outputs": [],
   "source": [
    "pd.set_option('display.max_columns', 500)"
   ]
  },
  {
   "cell_type": "code",
   "execution_count": null,
   "metadata": {},
   "outputs": [],
   "source": []
  }
 ],
 "metadata": {
  "kernelspec": {
   "display_name": "Python 3",
   "language": "python",
   "name": "python3"
  },
  "language_info": {
   "codemirror_mode": {
    "name": "ipython",
    "version": 3
   },
   "file_extension": ".py",
   "mimetype": "text/x-python",
   "name": "python",
   "nbconvert_exporter": "python",
   "pygments_lexer": "ipython3",
   "version": "3.7.3"
  },
  "pycharm": {
   "stem_cell": {
    "cell_type": "raw",
    "metadata": {
     "collapsed": false
    },
    "source": []
   }
  }
 },
 "nbformat": 4,
 "nbformat_minor": 2
}
